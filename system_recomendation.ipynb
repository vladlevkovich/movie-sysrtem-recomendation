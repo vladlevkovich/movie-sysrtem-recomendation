{
 "cells": [
  {
   "cell_type": "code",
   "execution_count": 21,
   "id": "initial_id",
   "metadata": {
    "ExecuteTime": {
     "end_time": "2024-08-01T19:24:56.229419Z",
     "start_time": "2024-08-01T19:24:56.181811300Z"
    }
   },
   "outputs": [],
   "source": [
    "import pandas as pd\n",
    "from sklearn import model_selection, metrics, preprocessing\n",
    "import torch\n",
    "import torch.nn as nn\n",
    "import matplotlib.pyplot as plt\n",
    "from torch.utils.data import Dataset, DataLoader"
   ]
  },
  {
   "cell_type": "code",
   "execution_count": 22,
   "id": "a430dff7b2ae96f8",
   "metadata": {
    "collapsed": false,
    "ExecuteTime": {
     "end_time": "2024-08-01T19:24:56.899168100Z",
     "start_time": "2024-08-01T19:24:56.867665400Z"
    }
   },
   "outputs": [],
   "source": [
    "device = torch.device('cuda' if torch.cuda.is_available() else 'cpu')"
   ]
  },
  {
   "cell_type": "code",
   "execution_count": 23,
   "id": "59bed9cb-ad16-4585-9e0a-a65220f3e81f",
   "metadata": {
    "ExecuteTime": {
     "end_time": "2024-08-01T19:25:08.926279700Z",
     "start_time": "2024-08-01T19:24:57.806155100Z"
    }
   },
   "outputs": [],
   "source": [
    "df = pd.read_csv('datasets/ratings.csv')"
   ]
  },
  {
   "cell_type": "code",
   "execution_count": 24,
   "id": "d81b42ca-fc11-45be-b575-dcd049637ee2",
   "metadata": {
    "ExecuteTime": {
     "end_time": "2024-08-01T19:25:15.701068200Z",
     "start_time": "2024-08-01T19:25:15.659509300Z"
    }
   },
   "outputs": [],
   "source": [
    "class MovieDataset(Dataset):\n",
    "    def __init__(self, users, movies, ratings):\n",
    "        self.users = users\n",
    "        self.movies = movies\n",
    "        self.ratings = ratings\n",
    "\n",
    "    def __len__(self):\n",
    "        return len(self.users)\n",
    "\n",
    "    def __getitem__(self, item):\n",
    "        users = self.users[item]\n",
    "        movies = self.movies[item]\n",
    "        ratings = self.ratings[item]\n",
    "\n",
    "        return {\n",
    "            'users': torch.tensor(users, dtype=torch.long),\n",
    "            'movies': torch.tensor(movies, dtype=torch.long),\n",
    "            'ratings': torch.tensor(ratings, dtype=torch.long)\n",
    "        }"
   ]
  },
  {
   "cell_type": "code",
   "execution_count": 25,
   "id": "445829b0-033b-460a-8607-9607edef6653",
   "metadata": {
    "ExecuteTime": {
     "end_time": "2024-08-01T19:25:16.470091Z",
     "start_time": "2024-08-01T19:25:16.453256800Z"
    }
   },
   "outputs": [],
   "source": [
    "class RecommendationSystemModel(nn.Module):\n",
    "    def __init__(self, num_users, num_movies, embedding_size=256, hidden_dim=256, dropout_rate=0.2):\n",
    "        super(RecommendationSystemModel, self).__init__()\n",
    "        self.num_users = num_users\n",
    "        self.num_movies = num_movies\n",
    "        self.embedding_size = embedding_size\n",
    "        self.hidden_dim = hidden_dim\n",
    "\n",
    "        # E,bedding layers\n",
    "        self.users_embedding = nn.Embedding(\n",
    "            num_embeddings=self.num_users, embedding_dim=self.embedding_size\n",
    "        )\n",
    "        self.movies_embedding = nn.Embedding(\n",
    "            num_embeddings=self.num_movies, embedding_dim=self.embedding_size\n",
    "        )\n",
    "\n",
    "        # Hidden layers\n",
    "        self.fc1 = nn.Linear(2 * self.embedding_size, self.hidden_dim)\n",
    "        self.fc2 = nn.Linear(self.hidden_dim, 1)\n",
    "\n",
    "        # Dropout layer\n",
    "        self.dropout = nn.Dropout(p=dropout_rate)\n",
    "\n",
    "        # Function activation\n",
    "        self.act = nn.ReLU()\n",
    "        # self.users_embedding = nn.Embedding(n_users, 32)\n",
    "        # self.movies_embedding = nn.Embedding(n_movies, 32)\n",
    "        # self.out = nn.Linear(64, 1)\n",
    "\n",
    "    def forward(self, users, movies):\n",
    "        user_embeds = self.users_embedding(users)\n",
    "        movie_embeds = self.movies_embedding(movies)\n",
    "        combined = torch.cat([user_embeds, movie_embeds], dim=1)    # об'єднання двох тенсорів\n",
    "\n",
    "        x = self.act(self.fc1(combined))\n",
    "        x = self.dropout(x)\n",
    "        output = self.fc2(x)\n",
    "        return output"
   ]
  },
  {
   "cell_type": "code",
   "execution_count": 26,
   "id": "9259339c-03f2-4d4c-9b9a-696fd317eed5",
   "metadata": {
    "ExecuteTime": {
     "end_time": "2024-08-01T19:25:45.400759Z",
     "start_time": "2024-08-01T19:25:17.309731800Z"
    }
   },
   "outputs": [],
   "source": [
    "lbl_user = preprocessing.LabelEncoder()\n",
    "lbl_movie = preprocessing.LabelEncoder()\n",
    "df.userId = lbl_user.fit_transform(df.userId.values)\n",
    "df.movieId = lbl_movie.fit_transform(df.movieId.values)\n",
    "\n",
    "df_train, df_valid = model_selection.train_test_split(df, test_size=0.1, random_state=42, stratify=df.rating.values)\n",
    "# test_size вказує на те що 10% даних будуть використані для df_valid\n",
    "# random_state Встановлює початкове значення для генератора випадкових чисел, щоб забезпечити відтворюваність результатів. Використання одного і того ж random_state дозволяє отримувати однакові результати кожного разу при запуску коду, що корисно для відладки і порівняння моделей.\n",
    "# stratify Використовується для забезпечення пропорційного розподілу класів у обох підмножинах. Тут db.ratings.values — це значення рейтингу, яке використовується для стратифікації, тобто для того, щоб зберегти розподіл рейтингів у навчальному і валідаційному наборах даних. Це корисно, якщо у вас є категоріальні дані, і ви хочете, щоб кожна підмножина даних зберігала пропорції класів, подібні до початкового набору даних.\n",
    "\n",
    "train_dataset = MovieDataset(\n",
    "    users=df_train.userId.values,\n",
    "    movies=df_train.movieId.values,\n",
    "    ratings=df_train.rating.values\n",
    ")\n",
    "\n",
    "valid_dataset = MovieDataset(\n",
    "    users=df_valid.userId.values,\n",
    "    movies=df_valid.movieId.values,\n",
    "    ratings=df_valid.rating.values\n",
    ")"
   ]
  },
  {
   "cell_type": "code",
   "execution_count": 27,
   "id": "f6495bee-9d8c-4686-b01d-6f74e3f340d0",
   "metadata": {
    "ExecuteTime": {
     "end_time": "2024-08-01T19:26:11.541711100Z",
     "start_time": "2024-08-01T19:26:11.462605700Z"
    }
   },
   "outputs": [],
   "source": [
    "train_loader = DataLoader(\n",
    "    dataset=train_dataset,\n",
    "    batch_size=32,\n",
    "    shuffle=True,\n",
    "    num_workers=2\n",
    ")\n",
    "\n",
    "validation_loader = DataLoader(\n",
    "    dataset=valid_dataset,\n",
    "    batch_size=32,\n",
    "    shuffle=True,\n",
    "    num_workers=2\n",
    ")"
   ]
  },
  {
   "cell_type": "code",
   "execution_count": 28,
   "id": "3d4fc0d0-b276-411c-bfdb-52bcc1a1e7d2",
   "metadata": {
    "ExecuteTime": {
     "end_time": "2024-08-01T19:26:13.058947900Z",
     "start_time": "2024-08-01T19:26:12.378982700Z"
    }
   },
   "outputs": [],
   "source": [
    "model = RecommendationSystemModel(\n",
    "    num_users=len(lbl_user.classes_),\n",
    "    num_movies=len(lbl_movie.classes_),\n",
    "    embedding_size=128,\n",
    "    hidden_dim=256,\n",
    "    dropout_rate=0.1\n",
    ").to(device)\n",
    "\n",
    "optimizer = torch.optim.Adam(model.parameters(), lr=1e-3)\n",
    "sch = torch.optim.lr_scheduler.StepLR(optimizer, step_size=3, gamma=0.7)    # зменшить швидкість навчання на 30% кожні 3 епохи. Це може допомогти моделі краще сходитися до мінімуму функції втрат за рахунок поступового зменшення темпу навчання.\n",
    "\n",
    "loss_fn = nn.MSELoss()"
   ]
  },
  {
   "cell_type": "code",
   "execution_count": null,
   "id": "1ec9b141-bb5d-4427-b64c-8cec9f9e6a86",
   "metadata": {
    "is_executing": true,
    "ExecuteTime": {
     "start_time": "2024-08-01T19:26:13.710153600Z"
    }
   },
   "outputs": [
    {
     "name": "stdout",
     "output_type": "stream",
     "text": [
      "Training on 22500085 samples...\n"
     ]
    }
   ],
   "source": [
    "import sys\n",
    "\n",
    "EPOCHS = 2\n",
    "\n",
    "def log_progress(epoch, step, total_loss, log_progress_step, data_size, losses):\n",
    "    avg_loss = total_loss / log_progress_step\n",
    "    sys.stderr.write(\n",
    "        f\"\\r{epoch+1:02d}/{EPOCHS:02d} | Step: {step}/{data_size} | Avg Loss: {avg_loss:<6.9f}\"\n",
    "    )\n",
    "    sys.stderr.flush()\n",
    "    losses.append(avg_loss)\n",
    "\n",
    "total_loss = 0\n",
    "loss_progress_step = 100\n",
    "losses = []\n",
    "train_dataset_size = len(train_dataset)\n",
    "print(f\"Training on {train_dataset_size} samples...\")\n",
    "\n",
    "model.train()\n",
    "for e in range(EPOCHS):\n",
    "    step_count = 0\n",
    "    for i, train_data in enumerate(train_loader):\n",
    "        output = model(\n",
    "            train_data['users'].to(device), train_data['movies'].to(device)\n",
    "        )\n",
    "        # Reshape the model output to match the target's shape\n",
    "        output = output.squeeze()   # Removes the singleton dimension\n",
    "        ratings = (\n",
    "            train_data['ratings'].to(torch.float32).to(device)\n",
    "        )   # Assuming ratings is already 1D\n",
    "        loss = loss_fn(output, ratings)\n",
    "        total_loss += loss.sum().item()\n",
    "        optimizer.zero_grad()\n",
    "        loss.backward()\n",
    "        optimizer.step()\n",
    "\n",
    "        # Increment step count by the actual size of the batch\n",
    "        step_count += len(train_data['users'])\n",
    "\n",
    "        # Check if it's time to log progress\n",
    "        if step_count % loss_progress_step == 0 or i == len(train_loader) - 1:\n",
    "            log_progress(e, step_count, total_loss, loss_progress_step, train_dataset_size, losses)\n",
    "            total_loss = 0"
   ]
  },
  {
   "cell_type": "code",
   "execution_count": null,
   "id": "0feb08cb-3fb9-4b82-bbfe-b910733fe5be",
   "metadata": {},
   "outputs": [],
   "source": [
    "from sklearn.metrics import mean_squared_error\n",
    "\n",
    "y_pred = []\n",
    "y_true = []\n",
    "\n",
    "model.eval()\n",
    "\n",
    "with torch.no_grad():\n",
    "    for i, valid_data in enumerate(validation_loader):\n",
    "        output = model(\n",
    "            valid_data['users'].to(device),\n",
    "            valid_data['movies'].to(device)\n",
    "        )\n",
    "        ratings = valid_data['ratings'].to(device)\n",
    "        y_pred.extend(output.cpu().numpy())\n",
    "        y_true.extend(ratings.cpu().numpy())\n",
    "\n",
    "rms = mean_squared_error(y_true, y_pred, squared=False)     # Root Mean Square Error\n",
    "print(f'RMSE: {rms:.4f}')"
   ]
  },
  {
   "cell_type": "code",
   "execution_count": null,
   "outputs": [],
   "source": [
    "from collections import defaultdict\n",
    "\n",
    "def calculate_precision_recall(user_ratings, k, threshold):\n",
    "    user_ratings.sort(key=lambda x: x[0], reverse=True)\n",
    "    n_rel = sum(true_r >= threshold for _, true_r in user_ratings)\n",
    "    n_rec_k = sum(est >= threshold for est, _ in user_ratings[:k])\n",
    "    n_rel_and_rec_k = sum((true_r >= threshold) and (est >= threshold) for est, true_r in user_ratings[:k])\n",
    "    precision = n_rel_and_rec_k / n_rec_k if n_rec_k != 0 else 1\n",
    "    recall = n_rel_and_rec_k / n_rel if n_rel != 0 else 1\n",
    "    return precision, recall\n",
    "\n",
    "user_ratings_comparison = defaultdict(list)\n",
    "\n",
    "with torch.no_grad():\n",
    "    for valid_data in validation_loader:\n",
    "        users = valid_data['users'].to(device)\n",
    "        movies = valid_data['movies'].to(device)\n",
    "        ratings = valid_data['ratings'].to(device)\n",
    "        output = model(users, movies)\n",
    "\n",
    "        for user, pred, true in zip(users, output, ratings):\n",
    "            user_ratings_comparison[user.item()].append((pred[0].item(), true.item()))\n",
    "\n",
    "\n",
    "user_precisions = dict()\n",
    "user_based_recall = dict()\n",
    "\n",
    "k = 50\n",
    "threshold = 50\n",
    "\n",
    "for user_id, user_ratings in user_ratings_comparison.items():\n",
    "    precision, recall = calculate_precision_recall(user_ratings, k, threshold)\n",
    "    user_precisions[user_id] = precision\n",
    "    user_based_recall[user_id] = recall\n",
    "\n",
    "\n",
    "average_precision = sum(prec for prec in user_precisions.values()) / len(user_precisions)\n",
    "average_recall = sum(prec for prec in user_based_recall.values()) / len(user_based_recall)\n",
    "\n",
    "print(f\"precision @ {k}: {average_precision:.4f}\")\n",
    "print(f\"recall @ {k}: {average_recall:.4f}\")"
   ],
   "metadata": {
    "collapsed": false
   },
   "id": "e373446578ad858e"
  },
  {
   "cell_type": "code",
   "execution_count": 9,
   "outputs": [],
   "source": [
    "model.eval()\n",
    "df_movies = pd.read_csv('movies.csv')\n",
    "\n",
    "def get_user_recommendations(user_id, num_recomendations=10):\n",
    "    user_tensor = torch.tensor([user_id] * len(lbl_movie.classes_)).to(device)\n",
    "    movie_tensor = torch.tensor(range(len(lbl_movie.classes_))).to(device)\n",
    "\n",
    "    with torch.no_grad():\n",
    "        predictions = model(user_tensor, movie_tensor)\n",
    "\n",
    "    movies_title = []\n",
    "\n",
    "    movie_id_to_title = dict(zip(df_movies['movieId'], df_movies['title']))\n",
    "\n",
    "    movie_predictions = list(zip(lbl_movie.classes_, predictions.squeeze().cpu().numpy()))\n",
    "\n",
    "    movie_predictions.sort(key=lambda x: x[1], reverse=True)\n",
    "\n",
    "    for movie_id, prediction_rating in movie_predictions:\n",
    "        try:\n",
    "            original_movie_id = lbl_movie.inverse_transform([movie_id])[0]\n",
    "            movie_title = movie_id_to_title.get(original_movie_id, 'Unknown Title')\n",
    "            movies_title.append(movie_title)\n",
    "            if len(movies_title) == num_recomendations:\n",
    "              break\n",
    "        except ValueError:\n",
    "            continue\n",
    "    return movies_title"
   ],
   "metadata": {
    "collapsed": false,
    "ExecuteTime": {
     "end_time": "2024-08-01T13:40:02.404924900Z",
     "start_time": "2024-08-01T13:40:02.399616600Z"
    }
   },
   "id": "f221f51dd6fa58b9"
  },
  {
   "cell_type": "code",
   "execution_count": null,
   "outputs": [],
   "source": [],
   "metadata": {
    "collapsed": false
   },
   "id": "864c17b9292a8447"
  }
 ],
 "metadata": {
  "kernelspec": {
   "display_name": "Python 3 (ipykernel)",
   "language": "python",
   "name": "python3"
  },
  "language_info": {
   "codemirror_mode": {
    "name": "ipython",
    "version": 3
   },
   "file_extension": ".py",
   "mimetype": "text/x-python",
   "name": "python",
   "nbconvert_exporter": "python",
   "pygments_lexer": "ipython3",
   "version": "3.11.2"
  }
 },
 "nbformat": 4,
 "nbformat_minor": 5
}
